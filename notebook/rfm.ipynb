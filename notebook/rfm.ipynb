{
 "cells": [
  {
   "cell_type": "code",
   "execution_count": 92,
   "metadata": {
    "collapsed": true,
    "ExecuteTime": {
     "end_time": "2023-05-13T07:01:13.354107Z",
     "start_time": "2023-05-13T07:01:12.806204Z"
    }
   },
   "outputs": [],
   "source": [
    "import numpy as np\n",
    "import pandas as pd\n",
    "import datetime as dt\n",
    "import matplotlib.pyplot as plt\n",
    "import seaborn as sns"
   ]
  },
  {
   "cell_type": "code",
   "execution_count": 152,
   "outputs": [
    {
     "data": {
      "text/plain": "       InvoiceNo StockCode                          Description  Quantity  \\\n0         536365    85123A   WHITE HANGING HEART T-LIGHT HOLDER         6   \n1         536365     71053                  WHITE METAL LANTERN         6   \n2         536365    84406B       CREAM CUPID HEARTS COAT HANGER         8   \n3         536365    84029G  KNITTED UNION FLAG HOT WATER BOTTLE         6   \n4         536365    84029E       RED WOOLLY HOTTIE WHITE HEART.         6   \n...          ...       ...                                  ...       ...   \n541904    581587     22613          PACK OF 20 SPACEBOY NAPKINS        12   \n541905    581587     22899         CHILDREN'S APRON DOLLY GIRL          6   \n541906    581587     23254        CHILDRENS CUTLERY DOLLY GIRL          4   \n541907    581587     23255      CHILDRENS CUTLERY CIRCUS PARADE         4   \n541908    581587     22138        BAKING SET 9 PIECE RETROSPOT          3   \n\n            InvoiceDate  UnitPrice CustomerID         Country  \n0        12/1/2010 8:26       2.55      17850  United Kingdom  \n1        12/1/2010 8:26       3.39      17850  United Kingdom  \n2        12/1/2010 8:26       2.75      17850  United Kingdom  \n3        12/1/2010 8:26       3.39      17850  United Kingdom  \n4        12/1/2010 8:26       3.39      17850  United Kingdom  \n...                 ...        ...        ...             ...  \n541904  12/9/2011 12:50       0.85      12680          France  \n541905  12/9/2011 12:50       2.10      12680          France  \n541906  12/9/2011 12:50       4.15      12680          France  \n541907  12/9/2011 12:50       4.15      12680          France  \n541908  12/9/2011 12:50       4.95      12680          France  \n\n[541909 rows x 8 columns]",
      "text/html": "<div>\n<style scoped>\n    .dataframe tbody tr th:only-of-type {\n        vertical-align: middle;\n    }\n\n    .dataframe tbody tr th {\n        vertical-align: top;\n    }\n\n    .dataframe thead th {\n        text-align: right;\n    }\n</style>\n<table border=\"1\" class=\"dataframe\">\n  <thead>\n    <tr style=\"text-align: right;\">\n      <th></th>\n      <th>InvoiceNo</th>\n      <th>StockCode</th>\n      <th>Description</th>\n      <th>Quantity</th>\n      <th>InvoiceDate</th>\n      <th>UnitPrice</th>\n      <th>CustomerID</th>\n      <th>Country</th>\n    </tr>\n  </thead>\n  <tbody>\n    <tr>\n      <th>0</th>\n      <td>536365</td>\n      <td>85123A</td>\n      <td>WHITE HANGING HEART T-LIGHT HOLDER</td>\n      <td>6</td>\n      <td>12/1/2010 8:26</td>\n      <td>2.55</td>\n      <td>17850</td>\n      <td>United Kingdom</td>\n    </tr>\n    <tr>\n      <th>1</th>\n      <td>536365</td>\n      <td>71053</td>\n      <td>WHITE METAL LANTERN</td>\n      <td>6</td>\n      <td>12/1/2010 8:26</td>\n      <td>3.39</td>\n      <td>17850</td>\n      <td>United Kingdom</td>\n    </tr>\n    <tr>\n      <th>2</th>\n      <td>536365</td>\n      <td>84406B</td>\n      <td>CREAM CUPID HEARTS COAT HANGER</td>\n      <td>8</td>\n      <td>12/1/2010 8:26</td>\n      <td>2.75</td>\n      <td>17850</td>\n      <td>United Kingdom</td>\n    </tr>\n    <tr>\n      <th>3</th>\n      <td>536365</td>\n      <td>84029G</td>\n      <td>KNITTED UNION FLAG HOT WATER BOTTLE</td>\n      <td>6</td>\n      <td>12/1/2010 8:26</td>\n      <td>3.39</td>\n      <td>17850</td>\n      <td>United Kingdom</td>\n    </tr>\n    <tr>\n      <th>4</th>\n      <td>536365</td>\n      <td>84029E</td>\n      <td>RED WOOLLY HOTTIE WHITE HEART.</td>\n      <td>6</td>\n      <td>12/1/2010 8:26</td>\n      <td>3.39</td>\n      <td>17850</td>\n      <td>United Kingdom</td>\n    </tr>\n    <tr>\n      <th>...</th>\n      <td>...</td>\n      <td>...</td>\n      <td>...</td>\n      <td>...</td>\n      <td>...</td>\n      <td>...</td>\n      <td>...</td>\n      <td>...</td>\n    </tr>\n    <tr>\n      <th>541904</th>\n      <td>581587</td>\n      <td>22613</td>\n      <td>PACK OF 20 SPACEBOY NAPKINS</td>\n      <td>12</td>\n      <td>12/9/2011 12:50</td>\n      <td>0.85</td>\n      <td>12680</td>\n      <td>France</td>\n    </tr>\n    <tr>\n      <th>541905</th>\n      <td>581587</td>\n      <td>22899</td>\n      <td>CHILDREN'S APRON DOLLY GIRL</td>\n      <td>6</td>\n      <td>12/9/2011 12:50</td>\n      <td>2.10</td>\n      <td>12680</td>\n      <td>France</td>\n    </tr>\n    <tr>\n      <th>541906</th>\n      <td>581587</td>\n      <td>23254</td>\n      <td>CHILDRENS CUTLERY DOLLY GIRL</td>\n      <td>4</td>\n      <td>12/9/2011 12:50</td>\n      <td>4.15</td>\n      <td>12680</td>\n      <td>France</td>\n    </tr>\n    <tr>\n      <th>541907</th>\n      <td>581587</td>\n      <td>23255</td>\n      <td>CHILDRENS CUTLERY CIRCUS PARADE</td>\n      <td>4</td>\n      <td>12/9/2011 12:50</td>\n      <td>4.15</td>\n      <td>12680</td>\n      <td>France</td>\n    </tr>\n    <tr>\n      <th>541908</th>\n      <td>581587</td>\n      <td>22138</td>\n      <td>BAKING SET 9 PIECE RETROSPOT</td>\n      <td>3</td>\n      <td>12/9/2011 12:50</td>\n      <td>4.95</td>\n      <td>12680</td>\n      <td>France</td>\n    </tr>\n  </tbody>\n</table>\n<p>541909 rows × 8 columns</p>\n</div>"
     },
     "execution_count": 152,
     "metadata": {},
     "output_type": "execute_result"
    }
   ],
   "source": [
    "df = pd.read_csv('../data/data.csv', encoding= 'unicode_escape', dtype={'CustomerID': str})\n",
    "df"
   ],
   "metadata": {
    "collapsed": false,
    "ExecuteTime": {
     "end_time": "2023-05-13T12:24:18.103818Z",
     "start_time": "2023-05-13T12:24:17.519018Z"
    }
   }
  },
  {
   "cell_type": "code",
   "execution_count": 118,
   "outputs": [
    {
     "name": "stdout",
     "output_type": "stream",
     "text": [
      "<class 'pandas.core.frame.DataFrame'>\n",
      "RangeIndex: 541909 entries, 0 to 541908\n",
      "Data columns (total 8 columns):\n",
      " #   Column       Non-Null Count   Dtype  \n",
      "---  ------       --------------   -----  \n",
      " 0   InvoiceNo    541909 non-null  object \n",
      " 1   StockCode    541909 non-null  object \n",
      " 2   Description  540455 non-null  object \n",
      " 3   Quantity     541909 non-null  int64  \n",
      " 4   InvoiceDate  541909 non-null  object \n",
      " 5   UnitPrice    541909 non-null  float64\n",
      " 6   CustomerID   406829 non-null  object \n",
      " 7   Country      541909 non-null  object \n",
      "dtypes: float64(1), int64(1), object(6)\n",
      "memory usage: 33.1+ MB\n"
     ]
    }
   ],
   "source": [
    "df.info()"
   ],
   "metadata": {
    "collapsed": false,
    "ExecuteTime": {
     "end_time": "2023-05-13T11:09:37.852747Z",
     "start_time": "2023-05-13T11:09:37.489647Z"
    }
   }
  },
  {
   "cell_type": "code",
   "execution_count": 119,
   "outputs": [
    {
     "data": {
      "text/plain": "            Quantity      UnitPrice\ncount  541909.000000  541909.000000\nmean        9.552250       4.611114\nstd       218.081158      96.759853\nmin    -80995.000000  -11062.060000\n25%         1.000000       1.250000\n50%         3.000000       2.080000\n75%        10.000000       4.130000\nmax     80995.000000   38970.000000",
      "text/html": "<div>\n<style scoped>\n    .dataframe tbody tr th:only-of-type {\n        vertical-align: middle;\n    }\n\n    .dataframe tbody tr th {\n        vertical-align: top;\n    }\n\n    .dataframe thead th {\n        text-align: right;\n    }\n</style>\n<table border=\"1\" class=\"dataframe\">\n  <thead>\n    <tr style=\"text-align: right;\">\n      <th></th>\n      <th>Quantity</th>\n      <th>UnitPrice</th>\n    </tr>\n  </thead>\n  <tbody>\n    <tr>\n      <th>count</th>\n      <td>541909.000000</td>\n      <td>541909.000000</td>\n    </tr>\n    <tr>\n      <th>mean</th>\n      <td>9.552250</td>\n      <td>4.611114</td>\n    </tr>\n    <tr>\n      <th>std</th>\n      <td>218.081158</td>\n      <td>96.759853</td>\n    </tr>\n    <tr>\n      <th>min</th>\n      <td>-80995.000000</td>\n      <td>-11062.060000</td>\n    </tr>\n    <tr>\n      <th>25%</th>\n      <td>1.000000</td>\n      <td>1.250000</td>\n    </tr>\n    <tr>\n      <th>50%</th>\n      <td>3.000000</td>\n      <td>2.080000</td>\n    </tr>\n    <tr>\n      <th>75%</th>\n      <td>10.000000</td>\n      <td>4.130000</td>\n    </tr>\n    <tr>\n      <th>max</th>\n      <td>80995.000000</td>\n      <td>38970.000000</td>\n    </tr>\n  </tbody>\n</table>\n</div>"
     },
     "execution_count": 119,
     "metadata": {},
     "output_type": "execute_result"
    }
   ],
   "source": [
    "df.describe()"
   ],
   "metadata": {
    "collapsed": false,
    "ExecuteTime": {
     "end_time": "2023-05-13T11:09:37.908250Z",
     "start_time": "2023-05-13T11:09:37.852566Z"
    }
   }
  },
  {
   "cell_type": "code",
   "execution_count": 120,
   "outputs": [
    {
     "data": {
      "text/plain": "4372"
     },
     "execution_count": 120,
     "metadata": {},
     "output_type": "execute_result"
    }
   ],
   "source": [
    "df['CustomerID'].nunique()"
   ],
   "metadata": {
    "collapsed": false,
    "ExecuteTime": {
     "end_time": "2023-05-13T11:09:38.023454Z",
     "start_time": "2023-05-13T11:09:37.968134Z"
    }
   }
  },
  {
   "cell_type": "code",
   "execution_count": 121,
   "outputs": [
    {
     "data": {
      "text/plain": "       InvoiceNo StockCode                       Description  Quantity  \\\n141      C536379         D                          Discount        -1   \n154      C536383    35004C   SET OF 3 COLOURED  FLYING DUCKS        -1   \n235      C536391     22556    PLASTERS IN TIN CIRCUS PARADE        -12   \n236      C536391     21984  PACK OF 12 PINK PAISLEY TISSUES        -24   \n237      C536391     21983  PACK OF 12 BLUE PAISLEY TISSUES        -24   \n...          ...       ...                               ...       ...   \n540449   C581490     23144   ZINC T-LIGHT HOLDER STARS SMALL       -11   \n541541   C581499         M                            Manual        -1   \n541715   C581568     21258        VICTORIAN SEWING BOX LARGE        -5   \n541716   C581569     84978  HANGING HEART JAR T-LIGHT HOLDER        -1   \n541717   C581569     20979     36 PENCILS TUBE RED RETROSPOT        -5   \n\n            InvoiceDate  UnitPrice CustomerID         Country  \n141      12/1/2010 9:41      27.50      14527  United Kingdom  \n154      12/1/2010 9:49       4.65      15311  United Kingdom  \n235     12/1/2010 10:24       1.65      17548  United Kingdom  \n236     12/1/2010 10:24       0.29      17548  United Kingdom  \n237     12/1/2010 10:24       0.29      17548  United Kingdom  \n...                 ...        ...        ...             ...  \n540449   12/9/2011 9:57       0.83      14397  United Kingdom  \n541541  12/9/2011 10:28     224.69      15498  United Kingdom  \n541715  12/9/2011 11:57      10.95      15311  United Kingdom  \n541716  12/9/2011 11:58       1.25      17315  United Kingdom  \n541717  12/9/2011 11:58       1.25      17315  United Kingdom  \n\n[10624 rows x 8 columns]",
      "text/html": "<div>\n<style scoped>\n    .dataframe tbody tr th:only-of-type {\n        vertical-align: middle;\n    }\n\n    .dataframe tbody tr th {\n        vertical-align: top;\n    }\n\n    .dataframe thead th {\n        text-align: right;\n    }\n</style>\n<table border=\"1\" class=\"dataframe\">\n  <thead>\n    <tr style=\"text-align: right;\">\n      <th></th>\n      <th>InvoiceNo</th>\n      <th>StockCode</th>\n      <th>Description</th>\n      <th>Quantity</th>\n      <th>InvoiceDate</th>\n      <th>UnitPrice</th>\n      <th>CustomerID</th>\n      <th>Country</th>\n    </tr>\n  </thead>\n  <tbody>\n    <tr>\n      <th>141</th>\n      <td>C536379</td>\n      <td>D</td>\n      <td>Discount</td>\n      <td>-1</td>\n      <td>12/1/2010 9:41</td>\n      <td>27.50</td>\n      <td>14527</td>\n      <td>United Kingdom</td>\n    </tr>\n    <tr>\n      <th>154</th>\n      <td>C536383</td>\n      <td>35004C</td>\n      <td>SET OF 3 COLOURED  FLYING DUCKS</td>\n      <td>-1</td>\n      <td>12/1/2010 9:49</td>\n      <td>4.65</td>\n      <td>15311</td>\n      <td>United Kingdom</td>\n    </tr>\n    <tr>\n      <th>235</th>\n      <td>C536391</td>\n      <td>22556</td>\n      <td>PLASTERS IN TIN CIRCUS PARADE</td>\n      <td>-12</td>\n      <td>12/1/2010 10:24</td>\n      <td>1.65</td>\n      <td>17548</td>\n      <td>United Kingdom</td>\n    </tr>\n    <tr>\n      <th>236</th>\n      <td>C536391</td>\n      <td>21984</td>\n      <td>PACK OF 12 PINK PAISLEY TISSUES</td>\n      <td>-24</td>\n      <td>12/1/2010 10:24</td>\n      <td>0.29</td>\n      <td>17548</td>\n      <td>United Kingdom</td>\n    </tr>\n    <tr>\n      <th>237</th>\n      <td>C536391</td>\n      <td>21983</td>\n      <td>PACK OF 12 BLUE PAISLEY TISSUES</td>\n      <td>-24</td>\n      <td>12/1/2010 10:24</td>\n      <td>0.29</td>\n      <td>17548</td>\n      <td>United Kingdom</td>\n    </tr>\n    <tr>\n      <th>...</th>\n      <td>...</td>\n      <td>...</td>\n      <td>...</td>\n      <td>...</td>\n      <td>...</td>\n      <td>...</td>\n      <td>...</td>\n      <td>...</td>\n    </tr>\n    <tr>\n      <th>540449</th>\n      <td>C581490</td>\n      <td>23144</td>\n      <td>ZINC T-LIGHT HOLDER STARS SMALL</td>\n      <td>-11</td>\n      <td>12/9/2011 9:57</td>\n      <td>0.83</td>\n      <td>14397</td>\n      <td>United Kingdom</td>\n    </tr>\n    <tr>\n      <th>541541</th>\n      <td>C581499</td>\n      <td>M</td>\n      <td>Manual</td>\n      <td>-1</td>\n      <td>12/9/2011 10:28</td>\n      <td>224.69</td>\n      <td>15498</td>\n      <td>United Kingdom</td>\n    </tr>\n    <tr>\n      <th>541715</th>\n      <td>C581568</td>\n      <td>21258</td>\n      <td>VICTORIAN SEWING BOX LARGE</td>\n      <td>-5</td>\n      <td>12/9/2011 11:57</td>\n      <td>10.95</td>\n      <td>15311</td>\n      <td>United Kingdom</td>\n    </tr>\n    <tr>\n      <th>541716</th>\n      <td>C581569</td>\n      <td>84978</td>\n      <td>HANGING HEART JAR T-LIGHT HOLDER</td>\n      <td>-1</td>\n      <td>12/9/2011 11:58</td>\n      <td>1.25</td>\n      <td>17315</td>\n      <td>United Kingdom</td>\n    </tr>\n    <tr>\n      <th>541717</th>\n      <td>C581569</td>\n      <td>20979</td>\n      <td>36 PENCILS TUBE RED RETROSPOT</td>\n      <td>-5</td>\n      <td>12/9/2011 11:58</td>\n      <td>1.25</td>\n      <td>17315</td>\n      <td>United Kingdom</td>\n    </tr>\n  </tbody>\n</table>\n<p>10624 rows × 8 columns</p>\n</div>"
     },
     "execution_count": 121,
     "metadata": {},
     "output_type": "execute_result"
    }
   ],
   "source": [
    "df[df['Quantity'] < 0]"
   ],
   "metadata": {
    "collapsed": false,
    "ExecuteTime": {
     "end_time": "2023-05-13T11:09:38.164040Z",
     "start_time": "2023-05-13T11:09:38.148812Z"
    }
   }
  },
  {
   "cell_type": "code",
   "execution_count": 122,
   "outputs": [
    {
     "data": {
      "text/plain": "       InvoiceNo StockCode      Description  Quantity      InvoiceDate  \\\n299983   A563186         B  Adjust bad debt         1  8/12/2011 14:51   \n299984   A563187         B  Adjust bad debt         1  8/12/2011 14:52   \n\n        UnitPrice CustomerID         Country  \n299983  -11062.06        NaN  United Kingdom  \n299984  -11062.06        NaN  United Kingdom  ",
      "text/html": "<div>\n<style scoped>\n    .dataframe tbody tr th:only-of-type {\n        vertical-align: middle;\n    }\n\n    .dataframe tbody tr th {\n        vertical-align: top;\n    }\n\n    .dataframe thead th {\n        text-align: right;\n    }\n</style>\n<table border=\"1\" class=\"dataframe\">\n  <thead>\n    <tr style=\"text-align: right;\">\n      <th></th>\n      <th>InvoiceNo</th>\n      <th>StockCode</th>\n      <th>Description</th>\n      <th>Quantity</th>\n      <th>InvoiceDate</th>\n      <th>UnitPrice</th>\n      <th>CustomerID</th>\n      <th>Country</th>\n    </tr>\n  </thead>\n  <tbody>\n    <tr>\n      <th>299983</th>\n      <td>A563186</td>\n      <td>B</td>\n      <td>Adjust bad debt</td>\n      <td>1</td>\n      <td>8/12/2011 14:51</td>\n      <td>-11062.06</td>\n      <td>NaN</td>\n      <td>United Kingdom</td>\n    </tr>\n    <tr>\n      <th>299984</th>\n      <td>A563187</td>\n      <td>B</td>\n      <td>Adjust bad debt</td>\n      <td>1</td>\n      <td>8/12/2011 14:52</td>\n      <td>-11062.06</td>\n      <td>NaN</td>\n      <td>United Kingdom</td>\n    </tr>\n  </tbody>\n</table>\n</div>"
     },
     "execution_count": 122,
     "metadata": {},
     "output_type": "execute_result"
    }
   ],
   "source": [
    "df[df['UnitPrice'] < 0]"
   ],
   "metadata": {
    "collapsed": false,
    "ExecuteTime": {
     "end_time": "2023-05-13T11:09:38.401258Z",
     "start_time": "2023-05-13T11:09:38.390695Z"
    }
   }
  },
  {
   "cell_type": "code",
   "execution_count": 153,
   "outputs": [],
   "source": [
    "df = df[df['UnitPrice'] >= 0]"
   ],
   "metadata": {
    "collapsed": false,
    "ExecuteTime": {
     "end_time": "2023-05-13T12:24:21.927493Z",
     "start_time": "2023-05-13T12:24:21.865125Z"
    }
   }
  },
  {
   "cell_type": "code",
   "execution_count": 154,
   "outputs": [
    {
     "name": "stderr",
     "output_type": "stream",
     "text": [
      "/var/folders/bk/syp6nsbn40j6khhtbc03r73c0000gn/T/ipykernel_93072/876306190.py:1: SettingWithCopyWarning: \n",
      "A value is trying to be set on a copy of a slice from a DataFrame.\n",
      "Try using .loc[row_indexer,col_indexer] = value instead\n",
      "\n",
      "See the caveats in the documentation: https://pandas.pydata.org/pandas-docs/stable/user_guide/indexing.html#returning-a-view-versus-a-copy\n",
      "  df['InvoiceDate'] = pd.to_datetime(df['InvoiceDate'])\n"
     ]
    }
   ],
   "source": [
    "df['InvoiceDate'] = pd.to_datetime(df['InvoiceDate'])"
   ],
   "metadata": {
    "collapsed": false,
    "ExecuteTime": {
     "end_time": "2023-05-13T12:24:24.070563Z",
     "start_time": "2023-05-13T12:24:23.165901Z"
    }
   }
  },
  {
   "cell_type": "markdown",
   "source": [
    "### Set the sample period to 6 months"
   ],
   "metadata": {
    "collapsed": false
   }
  },
  {
   "cell_type": "code",
   "execution_count": 155,
   "outputs": [],
   "source": [
    "df = df[df['InvoiceDate'] > df['InvoiceDate'].max() - dt.timedelta(days=180)]"
   ],
   "metadata": {
    "collapsed": false,
    "ExecuteTime": {
     "end_time": "2023-05-13T12:24:25.298039Z",
     "start_time": "2023-05-13T12:24:25.255662Z"
    }
   }
  },
  {
   "cell_type": "code",
   "execution_count": 156,
   "outputs": [
    {
     "data": {
      "text/plain": "       InvoiceNo StockCode                        Description  Quantity  \\\n223317    556480     21034       REX CASH+CARRY JUMBO SHOPPER         1   \n223318    556480     82482  WOODEN PICTURE FRAME WHITE FINISH         3   \n223319    556480     22798   ANTIQUE GLASS DRESSING TABLE POT         4   \n223320    556480     23321        SMALL WHITE HEART OF WICKER         4   \n223321    556480     85107   CUT GLASS T-LIGHT HOLDER OCTAGON         1   \n...          ...       ...                                ...       ...   \n541904    581587     22613        PACK OF 20 SPACEBOY NAPKINS        12   \n541905    581587     22899       CHILDREN'S APRON DOLLY GIRL          6   \n541906    581587     23254      CHILDRENS CUTLERY DOLLY GIRL          4   \n541907    581587     23255    CHILDRENS CUTLERY CIRCUS PARADE         4   \n541908    581587     22138      BAKING SET 9 PIECE RETROSPOT          3   \n\n               InvoiceDate  UnitPrice CustomerID         Country  Recency  \n223317 2011-06-12 12:55:00       0.95      13617  United Kingdom     40.0  \n223318 2011-06-12 12:55:00       2.55      13617  United Kingdom     40.0  \n223319 2011-06-12 12:55:00       2.95      13617  United Kingdom     40.0  \n223320 2011-06-12 12:55:00       1.69      13617  United Kingdom     40.0  \n223321 2011-06-12 12:55:00       2.55      13617  United Kingdom     40.0  \n...                    ...        ...        ...             ...      ...  \n541904 2011-12-09 12:50:00       0.85      12680          France      1.0  \n541905 2011-12-09 12:50:00       2.10      12680          France      1.0  \n541906 2011-12-09 12:50:00       4.15      12680          France      1.0  \n541907 2011-12-09 12:50:00       4.15      12680          France      1.0  \n541908 2011-12-09 12:50:00       4.95      12680          France      1.0  \n\n[318590 rows x 9 columns]",
      "text/html": "<div>\n<style scoped>\n    .dataframe tbody tr th:only-of-type {\n        vertical-align: middle;\n    }\n\n    .dataframe tbody tr th {\n        vertical-align: top;\n    }\n\n    .dataframe thead th {\n        text-align: right;\n    }\n</style>\n<table border=\"1\" class=\"dataframe\">\n  <thead>\n    <tr style=\"text-align: right;\">\n      <th></th>\n      <th>InvoiceNo</th>\n      <th>StockCode</th>\n      <th>Description</th>\n      <th>Quantity</th>\n      <th>InvoiceDate</th>\n      <th>UnitPrice</th>\n      <th>CustomerID</th>\n      <th>Country</th>\n      <th>Recency</th>\n    </tr>\n  </thead>\n  <tbody>\n    <tr>\n      <th>223317</th>\n      <td>556480</td>\n      <td>21034</td>\n      <td>REX CASH+CARRY JUMBO SHOPPER</td>\n      <td>1</td>\n      <td>2011-06-12 12:55:00</td>\n      <td>0.95</td>\n      <td>13617</td>\n      <td>United Kingdom</td>\n      <td>40.0</td>\n    </tr>\n    <tr>\n      <th>223318</th>\n      <td>556480</td>\n      <td>82482</td>\n      <td>WOODEN PICTURE FRAME WHITE FINISH</td>\n      <td>3</td>\n      <td>2011-06-12 12:55:00</td>\n      <td>2.55</td>\n      <td>13617</td>\n      <td>United Kingdom</td>\n      <td>40.0</td>\n    </tr>\n    <tr>\n      <th>223319</th>\n      <td>556480</td>\n      <td>22798</td>\n      <td>ANTIQUE GLASS DRESSING TABLE POT</td>\n      <td>4</td>\n      <td>2011-06-12 12:55:00</td>\n      <td>2.95</td>\n      <td>13617</td>\n      <td>United Kingdom</td>\n      <td>40.0</td>\n    </tr>\n    <tr>\n      <th>223320</th>\n      <td>556480</td>\n      <td>23321</td>\n      <td>SMALL WHITE HEART OF WICKER</td>\n      <td>4</td>\n      <td>2011-06-12 12:55:00</td>\n      <td>1.69</td>\n      <td>13617</td>\n      <td>United Kingdom</td>\n      <td>40.0</td>\n    </tr>\n    <tr>\n      <th>223321</th>\n      <td>556480</td>\n      <td>85107</td>\n      <td>CUT GLASS T-LIGHT HOLDER OCTAGON</td>\n      <td>1</td>\n      <td>2011-06-12 12:55:00</td>\n      <td>2.55</td>\n      <td>13617</td>\n      <td>United Kingdom</td>\n      <td>40.0</td>\n    </tr>\n    <tr>\n      <th>...</th>\n      <td>...</td>\n      <td>...</td>\n      <td>...</td>\n      <td>...</td>\n      <td>...</td>\n      <td>...</td>\n      <td>...</td>\n      <td>...</td>\n      <td>...</td>\n    </tr>\n    <tr>\n      <th>541904</th>\n      <td>581587</td>\n      <td>22613</td>\n      <td>PACK OF 20 SPACEBOY NAPKINS</td>\n      <td>12</td>\n      <td>2011-12-09 12:50:00</td>\n      <td>0.85</td>\n      <td>12680</td>\n      <td>France</td>\n      <td>1.0</td>\n    </tr>\n    <tr>\n      <th>541905</th>\n      <td>581587</td>\n      <td>22899</td>\n      <td>CHILDREN'S APRON DOLLY GIRL</td>\n      <td>6</td>\n      <td>2011-12-09 12:50:00</td>\n      <td>2.10</td>\n      <td>12680</td>\n      <td>France</td>\n      <td>1.0</td>\n    </tr>\n    <tr>\n      <th>541906</th>\n      <td>581587</td>\n      <td>23254</td>\n      <td>CHILDRENS CUTLERY DOLLY GIRL</td>\n      <td>4</td>\n      <td>2011-12-09 12:50:00</td>\n      <td>4.15</td>\n      <td>12680</td>\n      <td>France</td>\n      <td>1.0</td>\n    </tr>\n    <tr>\n      <th>541907</th>\n      <td>581587</td>\n      <td>23255</td>\n      <td>CHILDRENS CUTLERY CIRCUS PARADE</td>\n      <td>4</td>\n      <td>2011-12-09 12:50:00</td>\n      <td>4.15</td>\n      <td>12680</td>\n      <td>France</td>\n      <td>1.0</td>\n    </tr>\n    <tr>\n      <th>541908</th>\n      <td>581587</td>\n      <td>22138</td>\n      <td>BAKING SET 9 PIECE RETROSPOT</td>\n      <td>3</td>\n      <td>2011-12-09 12:50:00</td>\n      <td>4.95</td>\n      <td>12680</td>\n      <td>France</td>\n      <td>1.0</td>\n    </tr>\n  </tbody>\n</table>\n<p>318590 rows × 9 columns</p>\n</div>"
     },
     "execution_count": 156,
     "metadata": {},
     "output_type": "execute_result"
    }
   ],
   "source": [
    "most_recent_date = df['InvoiceDate'].max() + dt.timedelta(days=1)\n",
    "df['Recency'] = most_recent_date - df.groupby('CustomerID')['InvoiceDate'].transform('max')\n",
    "df['Recency'] = df['Recency'].dt.days\n",
    "df['Recency'] = pd.to_numeric(df['Recency'])\n",
    "df"
   ],
   "metadata": {
    "collapsed": false,
    "ExecuteTime": {
     "end_time": "2023-05-13T12:24:26.157597Z",
     "start_time": "2023-05-13T12:24:26.112559Z"
    }
   }
  },
  {
   "cell_type": "code",
   "execution_count": 157,
   "outputs": [],
   "source": [
    "df['Frequency'] = df.groupby('CustomerID')['InvoiceNo'].transform('nunique')"
   ],
   "metadata": {
    "collapsed": false,
    "ExecuteTime": {
     "end_time": "2023-05-13T12:24:26.978767Z",
     "start_time": "2023-05-13T12:24:26.944098Z"
    }
   }
  },
  {
   "cell_type": "code",
   "execution_count": 158,
   "outputs": [],
   "source": [
    "df['Monetary'] = df['Quantity'] * df['UnitPrice']\n",
    "df['Monetary'] = df.groupby('CustomerID')['Monetary'].transform('sum')"
   ],
   "metadata": {
    "collapsed": false,
    "ExecuteTime": {
     "end_time": "2023-05-13T12:24:27.514076Z",
     "start_time": "2023-05-13T12:24:27.480108Z"
    }
   }
  },
  {
   "cell_type": "code",
   "execution_count": 159,
   "outputs": [],
   "source": [
    "df = df[['CustomerID', 'Recency', 'Frequency', 'Monetary']]"
   ],
   "metadata": {
    "collapsed": false,
    "ExecuteTime": {
     "end_time": "2023-05-13T12:24:27.836576Z",
     "start_time": "2023-05-13T12:24:27.817555Z"
    }
   }
  },
  {
   "cell_type": "code",
   "execution_count": 160,
   "outputs": [
    {
     "data": {
      "text/plain": "       CustomerID  Recency  Frequency  Monetary\n223317      13617     40.0        3.0    544.18\n223330      16115     10.0        5.0   1157.07\n223357      17242    108.0        2.0   1135.04\n223386      14823    180.0        1.0    110.78\n223410      16938      9.0        4.0   1635.53\n...           ...      ...        ...       ...\n538907      15898      1.0        1.0    385.89\n539058      13404      1.0        1.0     34.68\n540092      13077      1.0        1.0    151.83\n540421      16446      1.0        2.0      0.00\n541768      12713      1.0        1.0    848.55\n\n[3509 rows x 4 columns]",
      "text/html": "<div>\n<style scoped>\n    .dataframe tbody tr th:only-of-type {\n        vertical-align: middle;\n    }\n\n    .dataframe tbody tr th {\n        vertical-align: top;\n    }\n\n    .dataframe thead th {\n        text-align: right;\n    }\n</style>\n<table border=\"1\" class=\"dataframe\">\n  <thead>\n    <tr style=\"text-align: right;\">\n      <th></th>\n      <th>CustomerID</th>\n      <th>Recency</th>\n      <th>Frequency</th>\n      <th>Monetary</th>\n    </tr>\n  </thead>\n  <tbody>\n    <tr>\n      <th>223317</th>\n      <td>13617</td>\n      <td>40.0</td>\n      <td>3.0</td>\n      <td>544.18</td>\n    </tr>\n    <tr>\n      <th>223330</th>\n      <td>16115</td>\n      <td>10.0</td>\n      <td>5.0</td>\n      <td>1157.07</td>\n    </tr>\n    <tr>\n      <th>223357</th>\n      <td>17242</td>\n      <td>108.0</td>\n      <td>2.0</td>\n      <td>1135.04</td>\n    </tr>\n    <tr>\n      <th>223386</th>\n      <td>14823</td>\n      <td>180.0</td>\n      <td>1.0</td>\n      <td>110.78</td>\n    </tr>\n    <tr>\n      <th>223410</th>\n      <td>16938</td>\n      <td>9.0</td>\n      <td>4.0</td>\n      <td>1635.53</td>\n    </tr>\n    <tr>\n      <th>...</th>\n      <td>...</td>\n      <td>...</td>\n      <td>...</td>\n      <td>...</td>\n    </tr>\n    <tr>\n      <th>538907</th>\n      <td>15898</td>\n      <td>1.0</td>\n      <td>1.0</td>\n      <td>385.89</td>\n    </tr>\n    <tr>\n      <th>539058</th>\n      <td>13404</td>\n      <td>1.0</td>\n      <td>1.0</td>\n      <td>34.68</td>\n    </tr>\n    <tr>\n      <th>540092</th>\n      <td>13077</td>\n      <td>1.0</td>\n      <td>1.0</td>\n      <td>151.83</td>\n    </tr>\n    <tr>\n      <th>540421</th>\n      <td>16446</td>\n      <td>1.0</td>\n      <td>2.0</td>\n      <td>0.00</td>\n    </tr>\n    <tr>\n      <th>541768</th>\n      <td>12713</td>\n      <td>1.0</td>\n      <td>1.0</td>\n      <td>848.55</td>\n    </tr>\n  </tbody>\n</table>\n<p>3509 rows × 4 columns</p>\n</div>"
     },
     "execution_count": 160,
     "metadata": {},
     "output_type": "execute_result"
    }
   ],
   "source": [
    "df = df.drop_duplicates(subset='CustomerID')\n",
    "df"
   ],
   "metadata": {
    "collapsed": false,
    "ExecuteTime": {
     "end_time": "2023-05-13T12:24:28.239183Z",
     "start_time": "2023-05-13T12:24:28.231276Z"
    }
   }
  },
  {
   "cell_type": "code",
   "execution_count": 161,
   "outputs": [],
   "source": [
    "df = df[df['Monetary'] > 0]"
   ],
   "metadata": {
    "collapsed": false,
    "ExecuteTime": {
     "end_time": "2023-05-13T12:24:28.994098Z",
     "start_time": "2023-05-13T12:24:28.984145Z"
    }
   }
  },
  {
   "cell_type": "code",
   "execution_count": 162,
   "outputs": [
    {
     "data": {
      "text/plain": "           Recency    Frequency      Monetary\ncount  3464.000000  3464.000000  3.464000e+03\nmean     47.560912     3.597864  1.432202e+03\nstd      45.188057     5.873113  5.788611e+03\nmin       1.000000     1.000000  1.776357e-15\n25%      11.000000     1.000000  2.795750e+02\n50%      31.500000     2.000000  5.676900e+02\n75%      71.000000     4.000000  1.265737e+03\nmax     180.000000   168.000000  1.644671e+05",
      "text/html": "<div>\n<style scoped>\n    .dataframe tbody tr th:only-of-type {\n        vertical-align: middle;\n    }\n\n    .dataframe tbody tr th {\n        vertical-align: top;\n    }\n\n    .dataframe thead th {\n        text-align: right;\n    }\n</style>\n<table border=\"1\" class=\"dataframe\">\n  <thead>\n    <tr style=\"text-align: right;\">\n      <th></th>\n      <th>Recency</th>\n      <th>Frequency</th>\n      <th>Monetary</th>\n    </tr>\n  </thead>\n  <tbody>\n    <tr>\n      <th>count</th>\n      <td>3464.000000</td>\n      <td>3464.000000</td>\n      <td>3.464000e+03</td>\n    </tr>\n    <tr>\n      <th>mean</th>\n      <td>47.560912</td>\n      <td>3.597864</td>\n      <td>1.432202e+03</td>\n    </tr>\n    <tr>\n      <th>std</th>\n      <td>45.188057</td>\n      <td>5.873113</td>\n      <td>5.788611e+03</td>\n    </tr>\n    <tr>\n      <th>min</th>\n      <td>1.000000</td>\n      <td>1.000000</td>\n      <td>1.776357e-15</td>\n    </tr>\n    <tr>\n      <th>25%</th>\n      <td>11.000000</td>\n      <td>1.000000</td>\n      <td>2.795750e+02</td>\n    </tr>\n    <tr>\n      <th>50%</th>\n      <td>31.500000</td>\n      <td>2.000000</td>\n      <td>5.676900e+02</td>\n    </tr>\n    <tr>\n      <th>75%</th>\n      <td>71.000000</td>\n      <td>4.000000</td>\n      <td>1.265737e+03</td>\n    </tr>\n    <tr>\n      <th>max</th>\n      <td>180.000000</td>\n      <td>168.000000</td>\n      <td>1.644671e+05</td>\n    </tr>\n  </tbody>\n</table>\n</div>"
     },
     "execution_count": 162,
     "metadata": {},
     "output_type": "execute_result"
    }
   ],
   "source": [
    "df.describe()"
   ],
   "metadata": {
    "collapsed": false,
    "ExecuteTime": {
     "end_time": "2023-05-13T12:24:29.986795Z",
     "start_time": "2023-05-13T12:24:29.974570Z"
    }
   }
  },
  {
   "cell_type": "code",
   "execution_count": 163,
   "outputs": [
    {
     "name": "stdout",
     "output_type": "stream",
     "text": [
      "<class 'pandas.core.frame.DataFrame'>\n",
      "Int64Index: 3464 entries, 223317 to 541768\n",
      "Data columns (total 4 columns):\n",
      " #   Column      Non-Null Count  Dtype  \n",
      "---  ------      --------------  -----  \n",
      " 0   CustomerID  3464 non-null   object \n",
      " 1   Recency     3464 non-null   float64\n",
      " 2   Frequency   3464 non-null   float64\n",
      " 3   Monetary    3464 non-null   float64\n",
      "dtypes: float64(3), object(1)\n",
      "memory usage: 135.3+ KB\n"
     ]
    }
   ],
   "source": [
    "df.info()"
   ],
   "metadata": {
    "collapsed": false,
    "ExecuteTime": {
     "end_time": "2023-05-13T12:24:31.985835Z",
     "start_time": "2023-05-13T12:24:31.980220Z"
    }
   }
  },
  {
   "cell_type": "code",
   "execution_count": 164,
   "outputs": [
    {
     "data": {
      "text/plain": "<Figure size 1000x500 with 3 Axes>",
      "image/png": "[encoded data removed]"
     },
     "metadata": {},
     "output_type": "display_data"
    }
   ],
   "source": [
    "fig, axs = plt.subplots(1, 3, figsize=(10, 5))\n",
    "\n",
    "sns.boxplot(y='Recency', data=df, ax=axs[0])\n",
    "axs[0].set_title('Recency')\n",
    "\n",
    "sns.boxplot(y='Frequency', data=df, ax=axs[1])\n",
    "axs[1].set_title('Frequency')\n",
    "\n",
    "sns.boxplot(y='Monetary', data=df, ax=axs[2])\n",
    "axs[2].set_title('Monetary')\n",
    "\n",
    "fig.suptitle('RFM Boxplots')\n",
    "\n",
    "plt.show()"
   ],
   "metadata": {
    "collapsed": false,
    "ExecuteTime": {
     "end_time": "2023-05-13T12:24:34.985046Z",
     "start_time": "2023-05-13T12:24:34.808872Z"
    }
   }
  },
  {
   "cell_type": "code",
   "execution_count": 168,
   "outputs": [
    {
     "name": "stderr",
     "output_type": "stream",
     "text": [
      "/var/folders/bk/syp6nsbn40j6khhtbc03r73c0000gn/T/ipykernel_93072/3137960158.py:1: SettingWithCopyWarning: \n",
      "A value is trying to be set on a copy of a slice from a DataFrame.\n",
      "Try using .loc[row_indexer,col_indexer] = value instead\n",
      "\n",
      "See the caveats in the documentation: https://pandas.pydata.org/pandas-docs/stable/user_guide/indexing.html#returning-a-view-versus-a-copy\n",
      "  df['Recency_rank'] = pd.cut(df['Recency'], bins = [-1,\n",
      "/var/folders/bk/syp6nsbn40j6khhtbc03r73c0000gn/T/ipykernel_93072/3137960158.py:8: SettingWithCopyWarning: \n",
      "A value is trying to be set on a copy of a slice from a DataFrame.\n",
      "Try using .loc[row_indexer,col_indexer] = value instead\n",
      "\n",
      "See the caveats in the documentation: https://pandas.pydata.org/pandas-docs/stable/user_guide/indexing.html#returning-a-view-versus-a-copy\n",
      "  df['Frequency_rank'] = pd.cut(df['Frequency'], bins = [-1,\n",
      "/var/folders/bk/syp6nsbn40j6khhtbc03r73c0000gn/T/ipykernel_93072/3137960158.py:16: SettingWithCopyWarning: \n",
      "A value is trying to be set on a copy of a slice from a DataFrame.\n",
      "Try using .loc[row_indexer,col_indexer] = value instead\n",
      "\n",
      "See the caveats in the documentation: https://pandas.pydata.org/pandas-docs/stable/user_guide/indexing.html#returning-a-view-versus-a-copy\n",
      "  df['Monetary_rank'] = pd.cut(df['Monetary'], bins = [-1,\n"
     ]
    },
    {
     "data": {
      "text/plain": "       CustomerID  Recency  Frequency  Monetary  Recency_rank  Frequency_rank  \\\n223317      13617     40.0        3.0    544.18             3               3   \n223330      16115     10.0        5.0   1157.07             4               4   \n223357      17242    108.0        2.0   1135.04             1               2   \n223386      14823    180.0        1.0    110.78             1               1   \n223410      16938      9.0        4.0   1635.53             5               4   \n...           ...      ...        ...       ...           ...             ...   \n538812      14569      1.0        1.0    227.39             5               1   \n538907      15898      1.0        1.0    385.89             5               1   \n539058      13404      1.0        1.0     34.68             5               1   \n540092      13077      1.0        1.0    151.83             5               1   \n541768      12713      1.0        1.0    848.55             5               1   \n\n        Monetary_rank  \n223317              3  \n223330              4  \n223357              4  \n223386              1  \n223410              5  \n...               ...  \n538812              2  \n538907              2  \n539058              1  \n540092              1  \n541768              4  \n\n[3464 rows x 7 columns]",
      "text/html": "<div>\n<style scoped>\n    .dataframe tbody tr th:only-of-type {\n        vertical-align: middle;\n    }\n\n    .dataframe tbody tr th {\n        vertical-align: top;\n    }\n\n    .dataframe thead th {\n        text-align: right;\n    }\n</style>\n<table border=\"1\" class=\"dataframe\">\n  <thead>\n    <tr style=\"text-align: right;\">\n      <th></th>\n      <th>CustomerID</th>\n      <th>Recency</th>\n      <th>Frequency</th>\n      <th>Monetary</th>\n      <th>Recency_rank</th>\n      <th>Frequency_rank</th>\n      <th>Monetary_rank</th>\n    </tr>\n  </thead>\n  <tbody>\n    <tr>\n      <th>223317</th>\n      <td>13617</td>\n      <td>40.0</td>\n      <td>3.0</td>\n      <td>544.18</td>\n      <td>3</td>\n      <td>3</td>\n      <td>3</td>\n    </tr>\n    <tr>\n      <th>223330</th>\n      <td>16115</td>\n      <td>10.0</td>\n      <td>5.0</td>\n      <td>1157.07</td>\n      <td>4</td>\n      <td>4</td>\n      <td>4</td>\n    </tr>\n    <tr>\n      <th>223357</th>\n      <td>17242</td>\n      <td>108.0</td>\n      <td>2.0</td>\n      <td>1135.04</td>\n      <td>1</td>\n      <td>2</td>\n      <td>4</td>\n    </tr>\n    <tr>\n      <th>223386</th>\n      <td>14823</td>\n      <td>180.0</td>\n      <td>1.0</td>\n      <td>110.78</td>\n      <td>1</td>\n      <td>1</td>\n      <td>1</td>\n    </tr>\n    <tr>\n      <th>223410</th>\n      <td>16938</td>\n      <td>9.0</td>\n      <td>4.0</td>\n      <td>1635.53</td>\n      <td>5</td>\n      <td>4</td>\n      <td>5</td>\n    </tr>\n    <tr>\n      <th>...</th>\n      <td>...</td>\n      <td>...</td>\n      <td>...</td>\n      <td>...</td>\n      <td>...</td>\n      <td>...</td>\n      <td>...</td>\n    </tr>\n    <tr>\n      <th>538812</th>\n      <td>14569</td>\n      <td>1.0</td>\n      <td>1.0</td>\n      <td>227.39</td>\n      <td>5</td>\n      <td>1</td>\n      <td>2</td>\n    </tr>\n    <tr>\n      <th>538907</th>\n      <td>15898</td>\n      <td>1.0</td>\n      <td>1.0</td>\n      <td>385.89</td>\n      <td>5</td>\n      <td>1</td>\n      <td>2</td>\n    </tr>\n    <tr>\n      <th>539058</th>\n      <td>13404</td>\n      <td>1.0</td>\n      <td>1.0</td>\n      <td>34.68</td>\n      <td>5</td>\n      <td>1</td>\n      <td>1</td>\n    </tr>\n    <tr>\n      <th>540092</th>\n      <td>13077</td>\n      <td>1.0</td>\n      <td>1.0</td>\n      <td>151.83</td>\n      <td>5</td>\n      <td>1</td>\n      <td>1</td>\n    </tr>\n    <tr>\n      <th>541768</th>\n      <td>12713</td>\n      <td>1.0</td>\n      <td>1.0</td>\n      <td>848.55</td>\n      <td>5</td>\n      <td>1</td>\n      <td>4</td>\n    </tr>\n  </tbody>\n</table>\n<p>3464 rows × 7 columns</p>\n</div>"
     },
     "execution_count": 168,
     "metadata": {},
     "output_type": "execute_result"
    }
   ],
   "source": [
    "df['Recency_rank'] = pd.cut(df['Recency'], bins = [-1,\n",
    "                                                           np.percentile(df['Recency'], 20),\n",
    "                                                           np.percentile(df['Recency'], 40),\n",
    "                                                           np.percentile(df['Recency'], 60),\n",
    "                                                           np.percentile(df['Recency'], 80),\n",
    "                                                           df['Recency'].max()], labels=[5, 4, 3, 2, 1]).astype('int')\n",
    "\n",
    "df['Frequency_rank'] = pd.cut(df['Frequency'], bins = [-1,\n",
    "                                                           np.percentile(df['Frequency'], 20),\n",
    "                                                           np.percentile(df['Frequency'], 40),\n",
    "                                                           np.percentile(df['Frequency'], 60),\n",
    "                                                           np.percentile(df['Frequency'], 80),\n",
    "                                                           df['Frequency'].max()], labels=[1, 2, 3, 4, 5]).astype('int')\n",
    "\n",
    "\n",
    "df['Monetary_rank'] = pd.cut(df['Monetary'], bins = [-1,\n",
    "                                                           np.percentile(df['Monetary'], 20),\n",
    "                                                           np.percentile(df['Monetary'], 40),\n",
    "                                                           np.percentile(df['Monetary'], 60),\n",
    "                                                           np.percentile(df['Monetary'], 80),\n",
    "                                                           df['Monetary'].max()], labels=[1, 2, 3, 4, 5]).astype('int')\n",
    "\n",
    "df"
   ],
   "metadata": {
    "collapsed": false,
    "ExecuteTime": {
     "end_time": "2023-05-13T12:30:29.912879Z",
     "start_time": "2023-05-13T12:30:29.878892Z"
    }
   }
  },
  {
   "cell_type": "code",
   "execution_count": 170,
   "outputs": [
    {
     "name": "stderr",
     "output_type": "stream",
     "text": [
      "/var/folders/bk/syp6nsbn40j6khhtbc03r73c0000gn/T/ipykernel_93072/3534063032.py:1: FutureWarning: The default value of numeric_only in DataFrameGroupBy.mean is deprecated. In a future version, numeric_only will default to False. Either specify numeric_only or select only columns which should be valid for the function.\n",
      "  df.groupby(['Recency_rank']).mean()\n"
     ]
    },
    {
     "data": {
      "text/plain": "                 Recency  Frequency     Monetary  Frequency_rank  \\\nRecency_rank                                                       \n1             124.059334   1.555716   489.581158        1.510854   \n2              61.883929   1.970238   646.365420        1.866071   \n3              33.327460   2.882526  1083.376374        2.446402   \n4              16.376081   3.938040  1428.507565        2.982709   \n5               4.654270   7.393939  3387.503650        3.720386   \n\n              Monetary_rank  \nRecency_rank                 \n1                  2.215630  \n2                  2.617560  \n3                  2.948605  \n4                  3.272334  \n5                  3.888430  ",
      "text/html": "<div>\n<style scoped>\n    .dataframe tbody tr th:only-of-type {\n        vertical-align: middle;\n    }\n\n    .dataframe tbody tr th {\n        vertical-align: top;\n    }\n\n    .dataframe thead th {\n        text-align: right;\n    }\n</style>\n<table border=\"1\" class=\"dataframe\">\n  <thead>\n    <tr style=\"text-align: right;\">\n      <th></th>\n      <th>Recency</th>\n      <th>Frequency</th>\n      <th>Monetary</th>\n      <th>Frequency_rank</th>\n      <th>Monetary_rank</th>\n    </tr>\n    <tr>\n      <th>Recency_rank</th>\n      <th></th>\n      <th></th>\n      <th></th>\n      <th></th>\n      <th></th>\n    </tr>\n  </thead>\n  <tbody>\n    <tr>\n      <th>1</th>\n      <td>124.059334</td>\n      <td>1.555716</td>\n      <td>489.581158</td>\n      <td>1.510854</td>\n      <td>2.215630</td>\n    </tr>\n    <tr>\n      <th>2</th>\n      <td>61.883929</td>\n      <td>1.970238</td>\n      <td>646.365420</td>\n      <td>1.866071</td>\n      <td>2.617560</td>\n    </tr>\n    <tr>\n      <th>3</th>\n      <td>33.327460</td>\n      <td>2.882526</td>\n      <td>1083.376374</td>\n      <td>2.446402</td>\n      <td>2.948605</td>\n    </tr>\n    <tr>\n      <th>4</th>\n      <td>16.376081</td>\n      <td>3.938040</td>\n      <td>1428.507565</td>\n      <td>2.982709</td>\n      <td>3.272334</td>\n    </tr>\n    <tr>\n      <th>5</th>\n      <td>4.654270</td>\n      <td>7.393939</td>\n      <td>3387.503650</td>\n      <td>3.720386</td>\n      <td>3.888430</td>\n    </tr>\n  </tbody>\n</table>\n</div>"
     },
     "execution_count": 170,
     "metadata": {},
     "output_type": "execute_result"
    }
   ],
   "source": [
    "df.groupby(['Recency_rank']).mean()"
   ],
   "metadata": {
    "collapsed": false,
    "ExecuteTime": {
     "end_time": "2023-05-13T12:30:58.369360Z",
     "start_time": "2023-05-13T12:30:58.356581Z"
    }
   }
  },
  {
   "cell_type": "code",
   "execution_count": 171,
   "outputs": [
    {
     "name": "stderr",
     "output_type": "stream",
     "text": [
      "/var/folders/bk/syp6nsbn40j6khhtbc03r73c0000gn/T/ipykernel_93072/397688042.py:1: FutureWarning: The default value of numeric_only in DataFrameGroupBy.mean is deprecated. In a future version, numeric_only will default to False. Either specify numeric_only or select only columns which should be valid for the function.\n",
      "  df.groupby(['Monetary_rank']).mean()\n"
     ]
    },
    {
     "data": {
      "text/plain": "                 Recency  Frequency     Monetary  Recency_rank  Frequency_rank\nMonetary_rank                                                                 \n1              72.816739   1.272727   139.537014      2.329004        1.262626\n2              59.186147   1.616162   321.188876      2.581530        1.581530\n3              48.202312   2.307803   573.669727      2.894509        2.250000\n4              35.835498   3.702742  1085.299394      3.346320        3.226551\n5              21.764791   9.088023  5040.078470      3.981241        4.287157",
      "text/html": "<div>\n<style scoped>\n    .dataframe tbody tr th:only-of-type {\n        vertical-align: middle;\n    }\n\n    .dataframe tbody tr th {\n        vertical-align: top;\n    }\n\n    .dataframe thead th {\n        text-align: right;\n    }\n</style>\n<table border=\"1\" class=\"dataframe\">\n  <thead>\n    <tr style=\"text-align: right;\">\n      <th></th>\n      <th>Recency</th>\n      <th>Frequency</th>\n      <th>Monetary</th>\n      <th>Recency_rank</th>\n      <th>Frequency_rank</th>\n    </tr>\n    <tr>\n      <th>Monetary_rank</th>\n      <th></th>\n      <th></th>\n      <th></th>\n      <th></th>\n      <th></th>\n    </tr>\n  </thead>\n  <tbody>\n    <tr>\n      <th>1</th>\n      <td>72.816739</td>\n      <td>1.272727</td>\n      <td>139.537014</td>\n      <td>2.329004</td>\n      <td>1.262626</td>\n    </tr>\n    <tr>\n      <th>2</th>\n      <td>59.186147</td>\n      <td>1.616162</td>\n      <td>321.188876</td>\n      <td>2.581530</td>\n      <td>1.581530</td>\n    </tr>\n    <tr>\n      <th>3</th>\n      <td>48.202312</td>\n      <td>2.307803</td>\n      <td>573.669727</td>\n      <td>2.894509</td>\n      <td>2.250000</td>\n    </tr>\n    <tr>\n      <th>4</th>\n      <td>35.835498</td>\n      <td>3.702742</td>\n      <td>1085.299394</td>\n      <td>3.346320</td>\n      <td>3.226551</td>\n    </tr>\n    <tr>\n      <th>5</th>\n      <td>21.764791</td>\n      <td>9.088023</td>\n      <td>5040.078470</td>\n      <td>3.981241</td>\n      <td>4.287157</td>\n    </tr>\n  </tbody>\n</table>\n</div>"
     },
     "execution_count": 171,
     "metadata": {},
     "output_type": "execute_result"
    }
   ],
   "source": [
    "df.groupby(['Monetary_rank']).mean()"
   ],
   "metadata": {
    "collapsed": false,
    "ExecuteTime": {
     "end_time": "2023-05-13T12:31:35.714924Z",
     "start_time": "2023-05-13T12:31:35.693012Z"
    }
   }
  },
  {
   "cell_type": "code",
   "execution_count": 172,
   "outputs": [
    {
     "name": "stderr",
     "output_type": "stream",
     "text": [
      "/var/folders/bk/syp6nsbn40j6khhtbc03r73c0000gn/T/ipykernel_93072/615494372.py:24: SettingWithCopyWarning: \n",
      "A value is trying to be set on a copy of a slice from a DataFrame.\n",
      "Try using .loc[row_indexer,col_indexer] = value instead\n",
      "\n",
      "See the caveats in the documentation: https://pandas.pydata.org/pandas-docs/stable/user_guide/indexing.html#returning-a-view-versus-a-copy\n",
      "  df['segment'] = segment\n"
     ]
    },
    {
     "data": {
      "text/plain": "       CustomerID  Recency  Frequency  Monetary  Recency_rank  Frequency_rank  \\\n223317      13617     40.0        3.0    544.18             3               3   \n223330      16115     10.0        5.0   1157.07             4               4   \n223357      17242    108.0        2.0   1135.04             1               2   \n223386      14823    180.0        1.0    110.78             1               1   \n223410      16938      9.0        4.0   1635.53             5               4   \n...           ...      ...        ...       ...           ...             ...   \n538812      14569      1.0        1.0    227.39             5               1   \n538907      15898      1.0        1.0    385.89             5               1   \n539058      13404      1.0        1.0     34.68             5               1   \n540092      13077      1.0        1.0    151.83             5               1   \n541768      12713      1.0        1.0    848.55             5               1   \n\n        Monetary_rank         segment  \n223317              3  Need attention  \n223330              4           Loyal  \n223357              4     Hibernating  \n223386              1     Hibernating  \n223410              5       Champions  \n...               ...             ...  \n538812              2             New  \n538907              2             New  \n539058              1             New  \n540092              1             New  \n541768              4             New  \n\n[3464 rows x 8 columns]",
      "text/html": "<div>\n<style scoped>\n    .dataframe tbody tr th:only-of-type {\n        vertical-align: middle;\n    }\n\n    .dataframe tbody tr th {\n        vertical-align: top;\n    }\n\n    .dataframe thead th {\n        text-align: right;\n    }\n</style>\n<table border=\"1\" class=\"dataframe\">\n  <thead>\n    <tr style=\"text-align: right;\">\n      <th></th>\n      <th>CustomerID</th>\n      <th>Recency</th>\n      <th>Frequency</th>\n      <th>Monetary</th>\n      <th>Recency_rank</th>\n      <th>Frequency_rank</th>\n      <th>Monetary_rank</th>\n      <th>segment</th>\n    </tr>\n  </thead>\n  <tbody>\n    <tr>\n      <th>223317</th>\n      <td>13617</td>\n      <td>40.0</td>\n      <td>3.0</td>\n      <td>544.18</td>\n      <td>3</td>\n      <td>3</td>\n      <td>3</td>\n      <td>Need attention</td>\n    </tr>\n    <tr>\n      <th>223330</th>\n      <td>16115</td>\n      <td>10.0</td>\n      <td>5.0</td>\n      <td>1157.07</td>\n      <td>4</td>\n      <td>4</td>\n      <td>4</td>\n      <td>Loyal</td>\n    </tr>\n    <tr>\n      <th>223357</th>\n      <td>17242</td>\n      <td>108.0</td>\n      <td>2.0</td>\n      <td>1135.04</td>\n      <td>1</td>\n      <td>2</td>\n      <td>4</td>\n      <td>Hibernating</td>\n    </tr>\n    <tr>\n      <th>223386</th>\n      <td>14823</td>\n      <td>180.0</td>\n      <td>1.0</td>\n      <td>110.78</td>\n      <td>1</td>\n      <td>1</td>\n      <td>1</td>\n      <td>Hibernating</td>\n    </tr>\n    <tr>\n      <th>223410</th>\n      <td>16938</td>\n      <td>9.0</td>\n      <td>4.0</td>\n      <td>1635.53</td>\n      <td>5</td>\n      <td>4</td>\n      <td>5</td>\n      <td>Champions</td>\n    </tr>\n    <tr>\n      <th>...</th>\n      <td>...</td>\n      <td>...</td>\n      <td>...</td>\n      <td>...</td>\n      <td>...</td>\n      <td>...</td>\n      <td>...</td>\n      <td>...</td>\n    </tr>\n    <tr>\n      <th>538812</th>\n      <td>14569</td>\n      <td>1.0</td>\n      <td>1.0</td>\n      <td>227.39</td>\n      <td>5</td>\n      <td>1</td>\n      <td>2</td>\n      <td>New</td>\n    </tr>\n    <tr>\n      <th>538907</th>\n      <td>15898</td>\n      <td>1.0</td>\n      <td>1.0</td>\n      <td>385.89</td>\n      <td>5</td>\n      <td>1</td>\n      <td>2</td>\n      <td>New</td>\n    </tr>\n    <tr>\n      <th>539058</th>\n      <td>13404</td>\n      <td>1.0</td>\n      <td>1.0</td>\n      <td>34.68</td>\n      <td>5</td>\n      <td>1</td>\n      <td>1</td>\n      <td>New</td>\n    </tr>\n    <tr>\n      <th>540092</th>\n      <td>13077</td>\n      <td>1.0</td>\n      <td>1.0</td>\n      <td>151.83</td>\n      <td>5</td>\n      <td>1</td>\n      <td>1</td>\n      <td>New</td>\n    </tr>\n    <tr>\n      <th>541768</th>\n      <td>12713</td>\n      <td>1.0</td>\n      <td>1.0</td>\n      <td>848.55</td>\n      <td>5</td>\n      <td>1</td>\n      <td>4</td>\n      <td>New</td>\n    </tr>\n  </tbody>\n</table>\n<p>3464 rows × 8 columns</p>\n</div>"
     },
     "execution_count": 172,
     "metadata": {},
     "output_type": "execute_result"
    }
   ],
   "source": [
    "segment = []\n",
    "for i, row in df[['Recency_rank', 'Frequency_rank', 'Monetary_rank']].iterrows():\n",
    "    if row['Recency_rank'] <= 2 and row['Frequency_rank'] <= 2:\n",
    "      segment.append('Hibernating')\n",
    "    elif row['Recency_rank'] <=2 and row['Frequency_rank'] >= 4 and row['Monetary_rank'] >= 4:\n",
    "      segment.append(\"Don't lose them\")\n",
    "    elif row['Recency_rank'] <=2 and row['Frequency_rank'] >= 3:\n",
    "      segment.append('At risk')\n",
    "    elif row['Recency_rank'] == 3 and row['Frequency_rank'] <= 2:\n",
    "      segment.append('About to sleep')\n",
    "    elif row['Recency_rank'] == 3 and row['Frequency_rank'] == 3:\n",
    "      segment.append('Need attention')\n",
    "    elif row['Recency_rank'] == 4 and row['Frequency_rank'] == 1:\n",
    "      segment.append('Promising')\n",
    "    elif row['Recency_rank'] == 5 and row['Frequency_rank'] == 1:\n",
    "      segment.append('New')\n",
    "    elif row['Recency_rank'] >= 4 and row['Frequency_rank'] >= 4 and row['Frequency_rank'] >=4 and row['Recency_rank'] + row['Frequency_rank'] + row['Monetary_rank'] > 12:\n",
    "      segment.append('Champions')\n",
    "    elif row['Recency_rank'] >= 3 and row['Frequency_rank'] >= 3 and row['Monetary_rank'] >= 3:\n",
    "      segment.append('Loyal')\n",
    "    else:\n",
    "      segment.append('Potential Loyal')\n",
    "\n",
    "df['segment'] = segment\n",
    "df"
   ],
   "metadata": {
    "collapsed": false,
    "ExecuteTime": {
     "end_time": "2023-05-13T12:34:43.493005Z",
     "start_time": "2023-05-13T12:34:43.380003Z"
    }
   }
  },
  {
   "cell_type": "code",
   "execution_count": 173,
   "outputs": [],
   "source": [
    "df.to_csv('../data/rfm_output.csv', index=False)"
   ],
   "metadata": {
    "collapsed": false,
    "ExecuteTime": {
     "end_time": "2023-05-13T12:38:20.655648Z",
     "start_time": "2023-05-13T12:38:20.631223Z"
    }
   }
  },
  {
   "cell_type": "code",
   "execution_count": 175,
   "outputs": [
    {
     "data": {
      "text/plain": "   Recency_rank     Recency\n0             1  124.059334\n1             2   61.883929\n2             3   33.327460\n3             4   16.376081\n4             5    4.654270",
      "text/html": "<div>\n<style scoped>\n    .dataframe tbody tr th:only-of-type {\n        vertical-align: middle;\n    }\n\n    .dataframe tbody tr th {\n        vertical-align: top;\n    }\n\n    .dataframe thead th {\n        text-align: right;\n    }\n</style>\n<table border=\"1\" class=\"dataframe\">\n  <thead>\n    <tr style=\"text-align: right;\">\n      <th></th>\n      <th>Recency_rank</th>\n      <th>Recency</th>\n    </tr>\n  </thead>\n  <tbody>\n    <tr>\n      <th>0</th>\n      <td>1</td>\n      <td>124.059334</td>\n    </tr>\n    <tr>\n      <th>1</th>\n      <td>2</td>\n      <td>61.883929</td>\n    </tr>\n    <tr>\n      <th>2</th>\n      <td>3</td>\n      <td>33.327460</td>\n    </tr>\n    <tr>\n      <th>3</th>\n      <td>4</td>\n      <td>16.376081</td>\n    </tr>\n    <tr>\n      <th>4</th>\n      <td>5</td>\n      <td>4.654270</td>\n    </tr>\n  </tbody>\n</table>\n</div>"
     },
     "execution_count": 175,
     "metadata": {},
     "output_type": "execute_result"
    }
   ],
   "source": [
    "df.groupby('Recency_rank')['Recency'].mean().reset_index()"
   ],
   "metadata": {
    "collapsed": false,
    "ExecuteTime": {
     "end_time": "2023-05-13T14:25:41.420507Z",
     "start_time": "2023-05-13T14:25:41.413476Z"
    }
   }
  },
  {
   "cell_type": "code",
   "execution_count": 176,
   "outputs": [
    {
     "name": "stdout",
     "output_type": "stream",
     "text": [
      "<class 'pandas.core.frame.DataFrame'>\n",
      "Int64Index: 3464 entries, 223317 to 541768\n",
      "Data columns (total 8 columns):\n",
      " #   Column          Non-Null Count  Dtype  \n",
      "---  ------          --------------  -----  \n",
      " 0   CustomerID      3464 non-null   object \n",
      " 1   Recency         3464 non-null   float64\n",
      " 2   Frequency       3464 non-null   float64\n",
      " 3   Monetary        3464 non-null   float64\n",
      " 4   Recency_rank    3464 non-null   int64  \n",
      " 5   Frequency_rank  3464 non-null   int64  \n",
      " 6   Monetary_rank   3464 non-null   int64  \n",
      " 7   segment         3464 non-null   object \n",
      "dtypes: float64(3), int64(3), object(2)\n",
      "memory usage: 243.6+ KB\n"
     ]
    }
   ],
   "source": [
    "df.info()"
   ],
   "metadata": {
    "collapsed": false,
    "ExecuteTime": {
     "end_time": "2023-05-15T14:42:05.344765Z",
     "start_time": "2023-05-15T14:42:05.274140Z"
    }
   }
  },
  {
   "cell_type": "code",
   "execution_count": 183,
   "outputs": [
    {
     "data": {
      "text/plain": "           segment  CustomerID\n0   About to sleep         390\n1          At risk         155\n2        Champions         599\n3  Don't lose them          79\n4      Hibernating        1129\n5            Loyal         477\n6   Need attention         111\n7              New          70\n8  Potential Loyal         302\n9        Promising         152",
      "text/html": "<div>\n<style scoped>\n    .dataframe tbody tr th:only-of-type {\n        vertical-align: middle;\n    }\n\n    .dataframe tbody tr th {\n        vertical-align: top;\n    }\n\n    .dataframe thead th {\n        text-align: right;\n    }\n</style>\n<table border=\"1\" class=\"dataframe\">\n  <thead>\n    <tr style=\"text-align: right;\">\n      <th></th>\n      <th>segment</th>\n      <th>CustomerID</th>\n    </tr>\n  </thead>\n  <tbody>\n    <tr>\n      <th>0</th>\n      <td>About to sleep</td>\n      <td>390</td>\n    </tr>\n    <tr>\n      <th>1</th>\n      <td>At risk</td>\n      <td>155</td>\n    </tr>\n    <tr>\n      <th>2</th>\n      <td>Champions</td>\n      <td>599</td>\n    </tr>\n    <tr>\n      <th>3</th>\n      <td>Don't lose them</td>\n      <td>79</td>\n    </tr>\n    <tr>\n      <th>4</th>\n      <td>Hibernating</td>\n      <td>1129</td>\n    </tr>\n    <tr>\n      <th>5</th>\n      <td>Loyal</td>\n      <td>477</td>\n    </tr>\n    <tr>\n      <th>6</th>\n      <td>Need attention</td>\n      <td>111</td>\n    </tr>\n    <tr>\n      <th>7</th>\n      <td>New</td>\n      <td>70</td>\n    </tr>\n    <tr>\n      <th>8</th>\n      <td>Potential Loyal</td>\n      <td>302</td>\n    </tr>\n    <tr>\n      <th>9</th>\n      <td>Promising</td>\n      <td>152</td>\n    </tr>\n  </tbody>\n</table>\n</div>"
     },
     "execution_count": 183,
     "metadata": {},
     "output_type": "execute_result"
    }
   ],
   "source": [
    "df.groupby('segment')['CustomerID'].nunique().reset_index()"
   ],
   "metadata": {
    "collapsed": false,
    "ExecuteTime": {
     "end_time": "2023-05-15T14:50:14.601444Z",
     "start_time": "2023-05-15T14:50:14.594285Z"
    }
   }
  },
  {
   "cell_type": "code",
   "execution_count": 185,
   "outputs": [
    {
     "name": "stderr",
     "output_type": "stream",
     "text": [
      "/var/folders/bk/syp6nsbn40j6khhtbc03r73c0000gn/T/ipykernel_93072/2186947567.py:1: FutureWarning: The default value of numeric_only in DataFrameGroupBy.mean is deprecated. In a future version, numeric_only will default to False. Either specify numeric_only or select only columns which should be valid for the function.\n",
      "  df.groupby('segment').mean().reset_index()\n"
     ]
    },
    {
     "data": {
      "text/plain": "           segment    Recency  Frequency     Monetary  Recency_rank  \\\n0   About to sleep  33.782051   1.392308   475.418513      3.000000   \n1          At risk  81.961290   3.322581   792.315097      1.658065   \n2        Champions   7.595993  10.188648  4834.892337      4.706177   \n3  Don't lose them  69.481013   5.468354  1910.898608      1.734177   \n4      Hibernating  96.650133   1.286094   441.885130      1.453499   \n5            Loyal  19.899371   4.503145  1592.368262      3.846960   \n6   Need attention  33.234234   3.000000   921.800180      3.000000   \n7              New   4.514286   1.000000   330.389286      5.000000   \n8  Potential Loyal  12.026490   2.367550   593.568411      4.417219   \n9        Promising  17.013158   1.000000   281.007171      4.000000   \n\n   Frequency_rank  Monetary_rank  \n0        1.392308       2.241026  \n1        3.232258       3.141935  \n2        4.739566       4.739566  \n3        4.367089       4.493671  \n4        1.286094       2.168291  \n5        3.796646       3.890985  \n6        3.000000       3.369369  \n7        1.000000       1.742857  \n8        2.281457       2.592715  \n9        1.000000       1.671053  ",
      "text/html": "<div>\n<style scoped>\n    .dataframe tbody tr th:only-of-type {\n        vertical-align: middle;\n    }\n\n    .dataframe tbody tr th {\n        vertical-align: top;\n    }\n\n    .dataframe thead th {\n        text-align: right;\n    }\n</style>\n<table border=\"1\" class=\"dataframe\">\n  <thead>\n    <tr style=\"text-align: right;\">\n      <th></th>\n      <th>segment</th>\n      <th>Recency</th>\n      <th>Frequency</th>\n      <th>Monetary</th>\n      <th>Recency_rank</th>\n      <th>Frequency_rank</th>\n      <th>Monetary_rank</th>\n    </tr>\n  </thead>\n  <tbody>\n    <tr>\n      <th>0</th>\n      <td>About to sleep</td>\n      <td>33.782051</td>\n      <td>1.392308</td>\n      <td>475.418513</td>\n      <td>3.000000</td>\n      <td>1.392308</td>\n      <td>2.241026</td>\n    </tr>\n    <tr>\n      <th>1</th>\n      <td>At risk</td>\n      <td>81.961290</td>\n      <td>3.322581</td>\n      <td>792.315097</td>\n      <td>1.658065</td>\n      <td>3.232258</td>\n      <td>3.141935</td>\n    </tr>\n    <tr>\n      <th>2</th>\n      <td>Champions</td>\n      <td>7.595993</td>\n      <td>10.188648</td>\n      <td>4834.892337</td>\n      <td>4.706177</td>\n      <td>4.739566</td>\n      <td>4.739566</td>\n    </tr>\n    <tr>\n      <th>3</th>\n      <td>Don't lose them</td>\n      <td>69.481013</td>\n      <td>5.468354</td>\n      <td>1910.898608</td>\n      <td>1.734177</td>\n      <td>4.367089</td>\n      <td>4.493671</td>\n    </tr>\n    <tr>\n      <th>4</th>\n      <td>Hibernating</td>\n      <td>96.650133</td>\n      <td>1.286094</td>\n      <td>441.885130</td>\n      <td>1.453499</td>\n      <td>1.286094</td>\n      <td>2.168291</td>\n    </tr>\n    <tr>\n      <th>5</th>\n      <td>Loyal</td>\n      <td>19.899371</td>\n      <td>4.503145</td>\n      <td>1592.368262</td>\n      <td>3.846960</td>\n      <td>3.796646</td>\n      <td>3.890985</td>\n    </tr>\n    <tr>\n      <th>6</th>\n      <td>Need attention</td>\n      <td>33.234234</td>\n      <td>3.000000</td>\n      <td>921.800180</td>\n      <td>3.000000</td>\n      <td>3.000000</td>\n      <td>3.369369</td>\n    </tr>\n    <tr>\n      <th>7</th>\n      <td>New</td>\n      <td>4.514286</td>\n      <td>1.000000</td>\n      <td>330.389286</td>\n      <td>5.000000</td>\n      <td>1.000000</td>\n      <td>1.742857</td>\n    </tr>\n    <tr>\n      <th>8</th>\n      <td>Potential Loyal</td>\n      <td>12.026490</td>\n      <td>2.367550</td>\n      <td>593.568411</td>\n      <td>4.417219</td>\n      <td>2.281457</td>\n      <td>2.592715</td>\n    </tr>\n    <tr>\n      <th>9</th>\n      <td>Promising</td>\n      <td>17.013158</td>\n      <td>1.000000</td>\n      <td>281.007171</td>\n      <td>4.000000</td>\n      <td>1.000000</td>\n      <td>1.671053</td>\n    </tr>\n  </tbody>\n</table>\n</div>"
     },
     "execution_count": 185,
     "metadata": {},
     "output_type": "execute_result"
    }
   ],
   "source": [
    "df.groupby('segment').mean().reset_index()"
   ],
   "metadata": {
    "collapsed": false,
    "ExecuteTime": {
     "end_time": "2023-05-20T04:03:22.561298Z",
     "start_time": "2023-05-20T04:03:22.542501Z"
    }
   }
  },
  {
   "cell_type": "code",
   "execution_count": 187,
   "outputs": [
    {
     "data": {
      "text/plain": "Layout({\n    'annotationdefaults': {'arrowcolor': '#f2f5fa', 'arrowhead': 0, 'arrowwidth': 1},\n    'autotypenumbers': 'strict',\n    'coloraxis': {'colorbar': {'outlinewidth': 0, 'ticks': ''}},\n    'colorscale': {'diverging': [[0, '#8e0152'], [0.1, '#c51b7d'], [0.2,\n                                 '#de77ae'], [0.3, '#f1b6da'], [0.4, '#fde0ef'],\n                                 [0.5, '#f7f7f7'], [0.6, '#e6f5d0'], [0.7,\n                                 '#b8e186'], [0.8, '#7fbc41'], [0.9, '#4d9221'],\n                                 [1, '#276419']],\n                   'sequential': [[0.0, '#0d0887'], [0.1111111111111111,\n                                  '#46039f'], [0.2222222222222222, '#7201a8'],\n                                  [0.3333333333333333, '#9c179e'],\n                                  [0.4444444444444444, '#bd3786'],\n                                  [0.5555555555555556, '#d8576b'],\n                                  [0.6666666666666666, '#ed7953'],\n                                  [0.7777777777777778, '#fb9f3a'],\n                                  [0.8888888888888888, '#fdca26'], [1.0,\n                                  '#f0f921']],\n                   'sequentialminus': [[0.0, '#0d0887'], [0.1111111111111111,\n                                       '#46039f'], [0.2222222222222222, '#7201a8'],\n                                       [0.3333333333333333, '#9c179e'],\n                                       [0.4444444444444444, '#bd3786'],\n                                       [0.5555555555555556, '#d8576b'],\n                                       [0.6666666666666666, '#ed7953'],\n                                       [0.7777777777777778, '#fb9f3a'],\n                                       [0.8888888888888888, '#fdca26'], [1.0,\n                                       '#f0f921']]},\n    'colorway': [#636efa, #EF553B, #00cc96, #ab63fa, #FFA15A, #19d3f3, #FF6692,\n                 #B6E880, #FF97FF, #FECB52],\n    'font': {'color': '#f2f5fa'},\n    'geo': {'bgcolor': 'rgb(17,17,17)',\n            'lakecolor': 'rgb(17,17,17)',\n            'landcolor': 'rgb(17,17,17)',\n            'showlakes': True,\n            'showland': True,\n            'subunitcolor': '#506784'},\n    'hoverlabel': {'align': 'left'},\n    'hovermode': 'closest',\n    'mapbox': {'style': 'dark'},\n    'paper_bgcolor': 'rgb(17,17,17)',\n    'plot_bgcolor': 'rgb(17,17,17)',\n    'polar': {'angularaxis': {'gridcolor': '#506784', 'linecolor': '#506784', 'ticks': ''},\n              'bgcolor': 'rgb(17,17,17)',\n              'radialaxis': {'gridcolor': '#506784', 'linecolor': '#506784', 'ticks': ''}},\n    'scene': {'xaxis': {'backgroundcolor': 'rgb(17,17,17)',\n                        'gridcolor': '#506784',\n                        'gridwidth': 2,\n                        'linecolor': '#506784',\n                        'showbackground': True,\n                        'ticks': '',\n                        'zerolinecolor': '#C8D4E3'},\n              'yaxis': {'backgroundcolor': 'rgb(17,17,17)',\n                        'gridcolor': '#506784',\n                        'gridwidth': 2,\n                        'linecolor': '#506784',\n                        'showbackground': True,\n                        'ticks': '',\n                        'zerolinecolor': '#C8D4E3'},\n              'zaxis': {'backgroundcolor': 'rgb(17,17,17)',\n                        'gridcolor': '#506784',\n                        'gridwidth': 2,\n                        'linecolor': '#506784',\n                        'showbackground': True,\n                        'ticks': '',\n                        'zerolinecolor': '#C8D4E3'}},\n    'shapedefaults': {'line': {'color': '#f2f5fa'}},\n    'sliderdefaults': {'bgcolor': '#C8D4E3', 'bordercolor': 'rgb(17,17,17)', 'borderwidth': 1, 'tickwidth': 0},\n    'ternary': {'aaxis': {'gridcolor': '#506784', 'linecolor': '#506784', 'ticks': ''},\n                'baxis': {'gridcolor': '#506784', 'linecolor': '#506784', 'ticks': ''},\n                'bgcolor': 'rgb(17,17,17)',\n                'caxis': {'gridcolor': '#506784', 'linecolor': '#506784', 'ticks': ''}},\n    'title': {'x': 0.05},\n    'updatemenudefaults': {'bgcolor': '#506784', 'borderwidth': 0},\n    'xaxis': {'automargin': True,\n              'gridcolor': '#283442',\n              'linecolor': '#506784',\n              'ticks': '',\n              'title': {'standoff': 15},\n              'zerolinecolor': '#283442',\n              'zerolinewidth': 2},\n    'yaxis': {'automargin': True,\n              'gridcolor': '#283442',\n              'linecolor': '#506784',\n              'ticks': '',\n              'title': {'standoff': 15},\n              'zerolinecolor': '#283442',\n              'zerolinewidth': 2}\n})"
     },
     "execution_count": 187,
     "metadata": {},
     "output_type": "execute_result"
    }
   ],
   "source": [
    "import plotly.io as pio\n",
    "plotly_template = pio.templates[\"plotly_dark\"]\n",
    "plotly_template.layout"
   ],
   "metadata": {
    "collapsed": false,
    "ExecuteTime": {
     "end_time": "2023-05-20T10:37:54.464646Z",
     "start_time": "2023-05-20T10:37:54.461175Z"
    }
   }
  },
  {
   "cell_type": "code",
   "execution_count": null,
   "outputs": [],
   "source": [],
   "metadata": {
    "collapsed": false
   }
  }
 ],
 "metadata": {
  "kernelspec": {
   "display_name": "Python 3",
   "language": "python",
   "name": "python3"
  },
  "language_info": {
   "codemirror_mode": {
    "name": "ipython",
    "version": 2
   },
   "file_extension": ".py",
   "mimetype": "text/x-python",
   "name": "python",
   "nbconvert_exporter": "python",
   "pygments_lexer": "ipython2",
   "version": "2.7.6"
  }
 },
 "nbformat": 4,
 "nbformat_minor": 0
}
